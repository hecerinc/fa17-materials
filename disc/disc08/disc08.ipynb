{
 "cells": [
  {
   "cell_type": "markdown",
   "metadata": {},
   "source": [
    "## $p$-values \n",
    "\n",
    "   - An important distinction from Kaye and Freedman:\n",
    "\n",
    "$$\\texttt{\"p is the probability of extreme data given the null hypothesis.\"}$$\n",
    "$$\\texttt{\"p is } \\textbf{not} \\texttt{ the probability of the null hypothesis given extreme data.\"}$$\n",
    "   - (Also a point from Freedman) One important hypothesis test in a linear model is an $F$-test. This is used to test the hypothesis that the coefficients vanish:\n",
    "   $$\\beta_1 = \\cdots = \\beta_p = 0.$$\n",
    "   The $F$-test statistic, intuitively, looks at how much worse a fit the model which sets the coefficients to zero is than the fit from the unrestricted model (if there was, for example, an intercept $\\beta_0$ we could allow this to be unrestricted in both cases). If the value of the $F$-statistic is big, this is sometimes interpreted as validating the model. But the $F$-test takes the model as given. \"Logically, there are three possibilities on the table. (i) An unlikely event occurred. (ii) Or the model is right and some of the coefficients differ from 0. (iii) Or the model is wrong. So?\"\n",
    "   \n",
    "   - It is crucial that we start by making sure we understand the correct interpretation of $p$-values, as basic misunderstandings of their meaning (and the emotional significance we attach to them) have led to many pitfalls.\n",
    "   \n",
    "   - The American Statistical Association (ASA) released a statement addressing misuse of the $p$-value with six principles:\n",
    "    1. $p$-values can indicate how incompatible the data are with a specified statistical model.\n",
    "    2. $p$-values do not measure the probability that the studied hypothesis is true, or the\n",
    "probability that the data were produced by random chance alone.\n",
    "    3. Scientific conclusions and business or policy decisions should not be based only on\n",
    "whether a $p$-value passes a specific threshold.\n",
    "    4. Proper inference requires full reporting and transparency.\n",
    "    5. A $p$-value, or statistical significance, does not measure the size of an effect or the importance of a result.\n",
    "    6. By itself, a $p$-value does not provide a good measure of evidence regarding a model or\n",
    "hypothesis.\n",
    "\n",
    "\n",
    "   - The main purpose of today's discussion is to elaborate on the fourth point."
   ]
  },
  {
   "cell_type": "markdown",
   "metadata": {},
   "source": [
    "## Data Dredging, $p$-hacking, Scientific Studies\n",
    "\n",
    "   - If one makes comparisons between enough variables, one is bound to find strong correlations in data where there is obviously no real, meaningful relationship.\n",
    "   - Look at some automatically generated [Spurious Correlations](http://www.tylervigen.com/spurious-correlations).\n",
    "   \n",
    "   - Reports omit parts of their analyses. What usually happens is we only report the interesting findings without accounting for how we arrived at such a conclusion (e.g., behaving as if we loaded our data and tested a single hypothesis and obtained a statistically significant result). As such, often what we see is too good to be true (the \"file drawer effect\"). There are many ways to $p$-hack:\n",
    "    1. Analyze many measures (e.g. the 538 demo)\n",
    "    2. Exclude data so findings look significant\n",
    "    3. Collect data until findings look significant\n",
    "    4. Transform data to make findings look more significant\n",
    "    \n",
    "        \n",
    "   - Watch [Last Week Tonight on Scientific Studies](https://youtu.be/0Rnq1NpHdmw)."
   ]
  },
  {
   "cell_type": "markdown",
   "metadata": {},
   "source": [
    "## 538 Demo\n",
    "\n",
    "Experiment with and Discuss [Hack Your Way to Scientific Glory](https://projects.fivethirtyeight.com/p-hacking/).\n",
    "   - Review hypothesis testing in the linear model. Here we are testing the hypothesis that the slope is zero. You have to explain what this means carefully, since the OLS estimate $\\widehat\\beta$ of the slope is either zero or not, but we are testing the null hypothesis that the \"true\" coefficient of the posited linear model $\\beta$ is equal to zero.\n",
    "   - Display and interact with the 538 demo. Give students the opportunity to see that many choices could lead to either conclusion. Explain that even if the $p$-value was very small, it might not be solid evidence to conclude a causal statement such as \"The U.S. economy is affected by whether Republicans or Democrats are in office\" due to confounding.\n",
    "   - From the associated [article](https://fivethirtyeight.com/features/science-isnt-broken/): \n",
    "         \"The data in our interactive tool can be narrowed and expanded (p-hacked) to make either hypothesis appear correct. That’s because answering even a simple scientific question — which party is correlated with economic success — requires lots of choices that can shape the results. This doesn’t mean that science is unreliable. It just means that it’s more challenging than we sometimes give it credit for.\"\n",
    "   - Question: what aspects of the analysis represent the researcher's \"degrees of freedom\"?\n",
    "   - Question: what issue led us to hack artificial results? (Hint: read the description at the top of the demo) \n",
    "   \n",
    "   Possible options include\n",
    "           - selection bias (Texas sharpshooter fallacy)\n",
    "           - confirmation bias\n",
    "           - post hoc ergo propter hoc\n",
    "           - commercial bias\n",
    "           - Simpson's paradox\n",
    "   - Question: how could we protect against the hazards of confirmation bias in this sort of analysis?"
   ]
  }
 ],
 "metadata": {
  "language_info": {
   "codemirror_mode": {
    "name": "ipython",
    "version": 3
   },
   "file_extension": ".py",
   "mimetype": "text/x-python",
   "name": "python",
   "nbconvert_exporter": "python",
   "pygments_lexer": "ipython3",
   "version": "3.6.1"
  }
 },
 "nbformat": 4,
 "nbformat_minor": 2
}